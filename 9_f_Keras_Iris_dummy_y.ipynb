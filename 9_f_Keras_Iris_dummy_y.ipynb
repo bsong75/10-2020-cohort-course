{
  "nbformat": 4,
  "nbformat_minor": 0,
  "metadata": {
    "colab": {
      "name": "9.f. Keras Iris Dataset.ipynb",
      "provenance": [],
      "mount_file_id": "1paONd7OJvLFp4NeCF_SaBTtViBvuExBn",
      "authorship_tag": "ABX9TyOJ4Hfsiauar7wup0/skOcH",
      "include_colab_link": true
    },
    "kernelspec": {
      "name": "python3",
      "display_name": "Python 3"
    }
  },
  "cells": [
    {
      "cell_type": "markdown",
      "metadata": {
        "id": "view-in-github",
        "colab_type": "text"
      },
      "source": [
        "<a href=\"https://colab.research.google.com/github/bsong75/10-2020-cohort-course/blob/main/9_f_Keras_Iris_dummy_y.ipynb\" target=\"_parent\"><img src=\"https://colab.research.google.com/assets/colab-badge.svg\" alt=\"Open In Colab\"/></a>"
      ]
    },
    {
      "cell_type": "code",
      "metadata": {
        "id": "Nfo98UPOfyf-"
      },
      "source": [
        "import pandas\r\n",
        "from keras.models import Sequential\r\n",
        "from keras.layers import Dense\r\n",
        "from keras.wrappers.scikit_learn import KerasClassifier\r\n",
        "from keras.utils import np_utils\r\n",
        "from sklearn.model_selection import cross_val_score\r\n",
        "from sklearn.model_selection import KFold\r\n",
        "from sklearn.preprocessing import LabelEncoder\r\n",
        "from sklearn.pipeline import Pipeline\r\n"
      ],
      "execution_count": 1,
      "outputs": []
    },
    {
      "cell_type": "code",
      "metadata": {
        "id": "bYmS21kff4ga"
      },
      "source": [
        "# load dataset\r\n",
        "dataframe = pandas.read_csv(\"/content/drive/MyDrive/csv/iris.csv\", header=None)\r\n",
        "dataset = dataframe.values\r\n",
        "X = dataset[:,0:4].astype(float)\r\n",
        "Y = dataset[:,4]"
      ],
      "execution_count": 2,
      "outputs": []
    },
    {
      "cell_type": "code",
      "metadata": {
        "id": "hdZHez-Tf4r2"
      },
      "source": [
        "# encode class values as integers\r\n",
        "encoder = LabelEncoder()\r\n",
        "encoder.fit(Y)\r\n",
        "encoded_Y = encoder.transform(Y)\r\n",
        "\r\n",
        "# convert integers to dummy variables (i.e. one hot encoded)\r\n",
        "dummy_y = np_utils.to_categorical(encoded_Y)\r\n",
        " "
      ],
      "execution_count": 3,
      "outputs": []
    },
    {
      "cell_type": "code",
      "metadata": {
        "colab": {
          "base_uri": "https://localhost:8080/"
        },
        "id": "YisIc9xthFoD",
        "outputId": "9295b2f7-4f62-4f69-ce77-b0cb469063f7"
      },
      "source": [
        "dummy_y"
      ],
      "execution_count": 17,
      "outputs": [
        {
          "output_type": "execute_result",
          "data": {
            "text/plain": [
              "array([[1., 0., 0.],\n",
              "       [1., 0., 0.],\n",
              "       [1., 0., 0.],\n",
              "       [1., 0., 0.],\n",
              "       [1., 0., 0.],\n",
              "       [1., 0., 0.],\n",
              "       [1., 0., 0.],\n",
              "       [1., 0., 0.],\n",
              "       [1., 0., 0.],\n",
              "       [1., 0., 0.],\n",
              "       [1., 0., 0.],\n",
              "       [1., 0., 0.],\n",
              "       [1., 0., 0.],\n",
              "       [1., 0., 0.],\n",
              "       [1., 0., 0.],\n",
              "       [1., 0., 0.],\n",
              "       [1., 0., 0.],\n",
              "       [1., 0., 0.],\n",
              "       [1., 0., 0.],\n",
              "       [1., 0., 0.],\n",
              "       [1., 0., 0.],\n",
              "       [1., 0., 0.],\n",
              "       [1., 0., 0.],\n",
              "       [1., 0., 0.],\n",
              "       [1., 0., 0.],\n",
              "       [1., 0., 0.],\n",
              "       [1., 0., 0.],\n",
              "       [1., 0., 0.],\n",
              "       [1., 0., 0.],\n",
              "       [1., 0., 0.],\n",
              "       [1., 0., 0.],\n",
              "       [1., 0., 0.],\n",
              "       [1., 0., 0.],\n",
              "       [1., 0., 0.],\n",
              "       [1., 0., 0.],\n",
              "       [1., 0., 0.],\n",
              "       [1., 0., 0.],\n",
              "       [1., 0., 0.],\n",
              "       [1., 0., 0.],\n",
              "       [1., 0., 0.],\n",
              "       [1., 0., 0.],\n",
              "       [1., 0., 0.],\n",
              "       [1., 0., 0.],\n",
              "       [1., 0., 0.],\n",
              "       [1., 0., 0.],\n",
              "       [1., 0., 0.],\n",
              "       [1., 0., 0.],\n",
              "       [1., 0., 0.],\n",
              "       [1., 0., 0.],\n",
              "       [1., 0., 0.],\n",
              "       [0., 1., 0.],\n",
              "       [0., 1., 0.],\n",
              "       [0., 1., 0.],\n",
              "       [0., 1., 0.],\n",
              "       [0., 1., 0.],\n",
              "       [0., 1., 0.],\n",
              "       [0., 1., 0.],\n",
              "       [0., 1., 0.],\n",
              "       [0., 1., 0.],\n",
              "       [0., 1., 0.],\n",
              "       [0., 1., 0.],\n",
              "       [0., 1., 0.],\n",
              "       [0., 1., 0.],\n",
              "       [0., 1., 0.],\n",
              "       [0., 1., 0.],\n",
              "       [0., 1., 0.],\n",
              "       [0., 1., 0.],\n",
              "       [0., 1., 0.],\n",
              "       [0., 1., 0.],\n",
              "       [0., 1., 0.],\n",
              "       [0., 1., 0.],\n",
              "       [0., 1., 0.],\n",
              "       [0., 1., 0.],\n",
              "       [0., 1., 0.],\n",
              "       [0., 1., 0.],\n",
              "       [0., 1., 0.],\n",
              "       [0., 1., 0.],\n",
              "       [0., 1., 0.],\n",
              "       [0., 1., 0.],\n",
              "       [0., 1., 0.],\n",
              "       [0., 1., 0.],\n",
              "       [0., 1., 0.],\n",
              "       [0., 1., 0.],\n",
              "       [0., 1., 0.],\n",
              "       [0., 1., 0.],\n",
              "       [0., 1., 0.],\n",
              "       [0., 1., 0.],\n",
              "       [0., 1., 0.],\n",
              "       [0., 1., 0.],\n",
              "       [0., 1., 0.],\n",
              "       [0., 1., 0.],\n",
              "       [0., 1., 0.],\n",
              "       [0., 1., 0.],\n",
              "       [0., 1., 0.],\n",
              "       [0., 1., 0.],\n",
              "       [0., 1., 0.],\n",
              "       [0., 1., 0.],\n",
              "       [0., 1., 0.],\n",
              "       [0., 1., 0.],\n",
              "       [0., 1., 0.],\n",
              "       [0., 0., 1.],\n",
              "       [0., 0., 1.],\n",
              "       [0., 0., 1.],\n",
              "       [0., 0., 1.],\n",
              "       [0., 0., 1.],\n",
              "       [0., 0., 1.],\n",
              "       [0., 0., 1.],\n",
              "       [0., 0., 1.],\n",
              "       [0., 0., 1.],\n",
              "       [0., 0., 1.],\n",
              "       [0., 0., 1.],\n",
              "       [0., 0., 1.],\n",
              "       [0., 0., 1.],\n",
              "       [0., 0., 1.],\n",
              "       [0., 0., 1.],\n",
              "       [0., 0., 1.],\n",
              "       [0., 0., 1.],\n",
              "       [0., 0., 1.],\n",
              "       [0., 0., 1.],\n",
              "       [0., 0., 1.],\n",
              "       [0., 0., 1.],\n",
              "       [0., 0., 1.],\n",
              "       [0., 0., 1.],\n",
              "       [0., 0., 1.],\n",
              "       [0., 0., 1.],\n",
              "       [0., 0., 1.],\n",
              "       [0., 0., 1.],\n",
              "       [0., 0., 1.],\n",
              "       [0., 0., 1.],\n",
              "       [0., 0., 1.],\n",
              "       [0., 0., 1.],\n",
              "       [0., 0., 1.],\n",
              "       [0., 0., 1.],\n",
              "       [0., 0., 1.],\n",
              "       [0., 0., 1.],\n",
              "       [0., 0., 1.],\n",
              "       [0., 0., 1.],\n",
              "       [0., 0., 1.],\n",
              "       [0., 0., 1.],\n",
              "       [0., 0., 1.],\n",
              "       [0., 0., 1.],\n",
              "       [0., 0., 1.],\n",
              "       [0., 0., 1.],\n",
              "       [0., 0., 1.],\n",
              "       [0., 0., 1.],\n",
              "       [0., 0., 1.],\n",
              "       [0., 0., 1.],\n",
              "       [0., 0., 1.],\n",
              "       [0., 0., 1.],\n",
              "       [0., 0., 1.]], dtype=float32)"
            ]
          },
          "metadata": {
            "tags": []
          },
          "execution_count": 17
        }
      ]
    },
    {
      "cell_type": "code",
      "metadata": {
        "id": "6zoCHPa4kICs"
      },
      "source": [
        "import tensorflow as tf\r\n",
        "from tensorflow import keras\r\n",
        "from tensorflow.keras.models import Sequential\r\n",
        "from tensorflow.keras.layers import Activation, Dense\r\n",
        "from tensorflow.keras.optimizers import Adam\r\n",
        "from tensorflow.keras.metrics import categorical_crossentropy"
      ],
      "execution_count": 18,
      "outputs": []
    },
    {
      "cell_type": "code",
      "metadata": {
        "id": "UGVfvVNaf42g"
      },
      "source": [
        "# define the keras model\r\n",
        "model = Sequential()\r\n",
        "model.add(Dense(12, input_dim=4, activation='relu'))\r\n",
        "model.add(Dense(8, activation='relu'))\r\n",
        "model.add(Dense(3, activation='softmax'))\r\n",
        "# compile the keras model\r\n",
        "model.compile(loss='categorical_crossentropy', optimizer='adam', metrics=['accuracy'])"
      ],
      "execution_count": 41,
      "outputs": []
    },
    {
      "cell_type": "code",
      "metadata": {
        "colab": {
          "base_uri": "https://localhost:8080/"
        },
        "id": "CYJRCdNdf47d",
        "outputId": "d5f58a7c-f1df-48a3-db18-400b0e502760"
      },
      "source": [
        "# fit the keras model on the dataset\r\n",
        "model.fit(X, dummy_y, epochs=15, batch_size=10, validation_split=0.2, verbose=2)"
      ],
      "execution_count": 42,
      "outputs": [
        {
          "output_type": "stream",
          "text": [
            "Epoch 1/15\n",
            "12/12 - 0s - loss: 1.1535 - accuracy: 0.5833 - val_loss: 0.7815 - val_accuracy: 0.9000\n",
            "Epoch 2/15\n",
            "12/12 - 0s - loss: 1.0265 - accuracy: 0.5583 - val_loss: 0.9482 - val_accuracy: 0.4333\n",
            "Epoch 3/15\n",
            "12/12 - 0s - loss: 0.9334 - accuracy: 0.5417 - val_loss: 1.0294 - val_accuracy: 0.5000\n",
            "Epoch 4/15\n",
            "12/12 - 0s - loss: 0.8924 - accuracy: 0.6333 - val_loss: 1.0154 - val_accuracy: 0.9333\n",
            "Epoch 5/15\n",
            "12/12 - 0s - loss: 0.8618 - accuracy: 0.9250 - val_loss: 1.0267 - val_accuracy: 0.4333\n",
            "Epoch 6/15\n",
            "12/12 - 0s - loss: 0.8345 - accuracy: 0.9417 - val_loss: 1.0306 - val_accuracy: 0.1333\n",
            "Epoch 7/15\n",
            "12/12 - 0s - loss: 0.8125 - accuracy: 0.8750 - val_loss: 1.0655 - val_accuracy: 0.0000e+00\n",
            "Epoch 8/15\n",
            "12/12 - 0s - loss: 0.7867 - accuracy: 0.8333 - val_loss: 1.0835 - val_accuracy: 0.0000e+00\n",
            "Epoch 9/15\n",
            "12/12 - 0s - loss: 0.7653 - accuracy: 0.8333 - val_loss: 1.1031 - val_accuracy: 0.0000e+00\n",
            "Epoch 10/15\n",
            "12/12 - 0s - loss: 0.7413 - accuracy: 0.8333 - val_loss: 1.0705 - val_accuracy: 0.0000e+00\n",
            "Epoch 11/15\n",
            "12/12 - 0s - loss: 0.7173 - accuracy: 0.8333 - val_loss: 1.0830 - val_accuracy: 0.0000e+00\n",
            "Epoch 12/15\n",
            "12/12 - 0s - loss: 0.6849 - accuracy: 0.8333 - val_loss: 0.9881 - val_accuracy: 0.0000e+00\n",
            "Epoch 13/15\n",
            "12/12 - 0s - loss: 0.6578 - accuracy: 0.8333 - val_loss: 1.0380 - val_accuracy: 0.0000e+00\n",
            "Epoch 14/15\n",
            "12/12 - 0s - loss: 0.6285 - accuracy: 0.8333 - val_loss: 1.0583 - val_accuracy: 0.0000e+00\n",
            "Epoch 15/15\n",
            "12/12 - 0s - loss: 0.6046 - accuracy: 0.8333 - val_loss: 1.0933 - val_accuracy: 0.0000e+00\n"
          ],
          "name": "stdout"
        },
        {
          "output_type": "execute_result",
          "data": {
            "text/plain": [
              "<tensorflow.python.keras.callbacks.History at 0x7f146c6b1be0>"
            ]
          },
          "metadata": {
            "tags": []
          },
          "execution_count": 42
        }
      ]
    },
    {
      "cell_type": "code",
      "metadata": {
        "colab": {
          "base_uri": "https://localhost:8080/"
        },
        "id": "NjCz9LE5hgXS",
        "outputId": "9d68fdee-5459-4534-d990-f37e4b8a5a48"
      },
      "source": [
        "model.summary()"
      ],
      "execution_count": 43,
      "outputs": [
        {
          "output_type": "stream",
          "text": [
            "Model: \"sequential_24\"\n",
            "_________________________________________________________________\n",
            "Layer (type)                 Output Shape              Param #   \n",
            "=================================================================\n",
            "dense_52 (Dense)             (None, 12)                60        \n",
            "_________________________________________________________________\n",
            "dense_53 (Dense)             (None, 8)                 104       \n",
            "_________________________________________________________________\n",
            "dense_54 (Dense)             (None, 3)                 27        \n",
            "=================================================================\n",
            "Total params: 191\n",
            "Trainable params: 191\n",
            "Non-trainable params: 0\n",
            "_________________________________________________________________\n"
          ],
          "name": "stdout"
        }
      ]
    },
    {
      "cell_type": "code",
      "metadata": {
        "id": "1Q_8IHUNkjS8"
      },
      "source": [
        "# make class predictions with the model\r\n",
        "\r\n",
        "predictions = model.predict_classes(X)"
      ],
      "execution_count": 44,
      "outputs": []
    },
    {
      "cell_type": "code",
      "metadata": {
        "colab": {
          "base_uri": "https://localhost:8080/"
        },
        "id": "TvXuRRHrkjYg",
        "outputId": "17a24030-eb99-4025-df2e-f5adce9aa0eb"
      },
      "source": [
        "# summarize the first 5 cases\r\n",
        "for i in range(5):\r\n",
        "\tprint('%s => %d (expected %d)' % (X[i].tolist(), predictions[i], encoded_Y[i]))"
      ],
      "execution_count": 45,
      "outputs": [
        {
          "output_type": "stream",
          "text": [
            "[5.1, 3.5, 1.4, 0.2] => 0 (expected 0)\n",
            "[4.9, 3.0, 1.4, 0.2] => 0 (expected 0)\n",
            "[4.7, 3.2, 1.3, 0.2] => 0 (expected 0)\n",
            "[4.6, 3.1, 1.5, 0.2] => 0 (expected 0)\n",
            "[5.0, 3.6, 1.4, 0.2] => 0 (expected 0)\n"
          ],
          "name": "stdout"
        }
      ]
    },
    {
      "cell_type": "code",
      "metadata": {
        "id": "rRCtUZvck_Pl"
      },
      "source": [
        ""
      ],
      "execution_count": null,
      "outputs": []
    }
  ]
}